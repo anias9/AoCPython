{
  "nbformat": 4,
  "nbformat_minor": 0,
  "metadata": {
    "colab": {
      "name": "Untitled3.ipynb",
      "provenance": [],
      "authorship_tag": "ABX9TyOYwx0heCzc4ZC/z5FzqPfD"
    },
    "kernelspec": {
      "name": "python3",
      "display_name": "Python 3"
    }
  },
  "cells": [
    {
      "cell_type": "code",
      "metadata": {
        "id": "vtDwA22xCgsj"
      },
      "source": [
        "input = \"\"\"L.LL.LL.LL\r\n",
        "LLLLLLL.LL\r\n",
        "L.L.L..L..\r\n",
        "LLLL.LL.LL\r\n",
        "L.LL.LL.LL\r\n",
        "L.LLLLL.LL\r\n",
        "..L.L.....\r\n",
        "LLLLLLLLLL\r\n",
        "L.LLLLLL.L \r\n",
        "L.LLLLL.LL\"\"\""
      ],
      "execution_count": 105,
      "outputs": []
    },
    {
      "cell_type": "code",
      "metadata": {
        "id": "D5KPhnHHD_hn"
      },
      "source": [
        "data = input.splitlines()"
      ],
      "execution_count": 106,
      "outputs": []
    },
    {
      "cell_type": "code",
      "metadata": {
        "colab": {
          "base_uri": "https://localhost:8080/"
        },
        "id": "sW7oaDoiJk3v",
        "outputId": "23b48176-0338-4e8b-e1b1-b9b1895d81b3"
      },
      "source": [
        "newSeats = []\r\n",
        "for i in range(len(data)): \r\n",
        "  newRow = \"\"\r\n",
        "  for j in range(len(data[0])): \r\n",
        "    if data[i][j] == \".\":\r\n",
        "      newRow += \".\"\r\n",
        "    else: \r\n",
        "      if i > 0 and j > 0 and j <  len(data[0]) - 1 and i < len(data) -1 :\r\n",
        "        if data[i][j] == \"L\":\r\n",
        "          if (data[i+1][j] == \"L\" or data[i+1][j] == \".\") and (data[i-1][j] == \"L\" or data[i-1][j] == \".\") and (data[i][j-1] == \"L\" or data[i][j-1] == \".\") and (data[i][j+1] == \"L\" or data[i][j+1] == \".\") and (data[i-1][j-1] == \"L\" or data[i-1][j-1] == \".\") and (data[i-1][j+1] == \"L\" or data[i-1][j+1] == \".\") and (data[i+1][j+1] == \"L\" or data[i+1][j+1] == \".\") and (data[i+1][j-1] == \"L\" or data[i+1][j-1] == \".\"):\r\n",
        "            newRow += \"#\"\r\n",
        "          else: \r\n",
        "            newRow += \"L\"\r\n",
        "      else:\r\n",
        "        newRow += \"#\"\r\n",
        "    \r\n",
        "  newSeats.append(newRow)\r\n",
        "\r\n",
        "newSeats"
      ],
      "execution_count": 107,
      "outputs": [
        {
          "output_type": "execute_result",
          "data": {
            "text/plain": [
              "['#.##.##.##',\n",
              " '#######.##',\n",
              " '#.#.#..#..',\n",
              " '####.##.##',\n",
              " '#.##.##.##',\n",
              " '#.#####.##',\n",
              " '..#.#.....',\n",
              " '##########',\n",
              " '#.######.#',\n",
              " '#.#####.##']"
            ]
          },
          "metadata": {
            "tags": []
          },
          "execution_count": 107
        }
      ]
    }
  ]
}