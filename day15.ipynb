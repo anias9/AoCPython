{
  "nbformat": 4,
  "nbformat_minor": 0,
  "metadata": {
    "colab": {
      "name": "Untitled4.ipynb",
      "provenance": [],
      "authorship_tag": "ABX9TyNCPYE3fKeElllKS+IR1Lyn",
      "include_colab_link": true
    },
    "kernelspec": {
      "name": "python3",
      "display_name": "Python 3"
    }
  },
  "cells": [
    {
      "cell_type": "markdown",
      "metadata": {
        "id": "view-in-github",
        "colab_type": "text"
      },
      "source": [
        "<a href=\"https://colab.research.google.com/github/anias9/AoCPython/blob/main/day15.ipynb\" target=\"_parent\"><img src=\"https://colab.research.google.com/assets/colab-badge.svg\" alt=\"Open In Colab\"/></a>"
      ]
    },
    {
      "cell_type": "code",
      "metadata": {
        "id": "6PJaa9LDGeC7"
      },
      "source": [
        "input = \"9,12,1,4,17,0,18\""
      ],
      "execution_count": 18,
      "outputs": []
    },
    {
      "cell_type": "code",
      "metadata": {
        "id": "ZuCULQqpH0Sz"
      },
      "source": [
        "data1 = input.splitlines()\r\n",
        "data1= data1[0].split(',')\r\n",
        "data1 = [int(num) for num in data1]"
      ],
      "execution_count": 20,
      "outputs": []
    },
    {
      "cell_type": "code",
      "metadata": {
        "colab": {
          "base_uri": "https://localhost:8080/"
        },
        "id": "rYcTtPIzH4kZ",
        "outputId": "a8e442ec-4fde-45eb-da06-71aeaa76da91"
      },
      "source": [
        "data1"
      ],
      "execution_count": 21,
      "outputs": [
        {
          "output_type": "execute_result",
          "data": {
            "text/plain": [
              "[9, 12, 1, 4, 17, 0, 18]"
            ]
          },
          "metadata": {
            "tags": []
          },
          "execution_count": 21
        }
      ]
    },
    {
      "cell_type": "code",
      "metadata": {
        "id": "cYs-VPzuH89G"
      },
      "source": [
        "def play_game(size):\r\n",
        "  data = data1[:]\r\n",
        "  memo = {}\r\n",
        "\r\n",
        "  for i in range(len(data)-1):\r\n",
        "    number = data[i]\r\n",
        "    memo[number] = i\r\n",
        "\r\n",
        "  for i in range(len(data)-1,size-1):\r\n",
        "    number = data[i]\r\n",
        "\r\n",
        "    if number not in memo:\r\n",
        "      data.append(0)\r\n",
        "      memo[number] = i\r\n",
        "\r\n",
        "    else:\r\n",
        "      j = memo[number]\r\n",
        "      newNum = i - j\r\n",
        "      data.append(newNum)\r\n",
        "      memo[number] = i\r\n",
        "\r\n",
        "  return data[-1]"
      ],
      "execution_count": 26,
      "outputs": []
    },
    {
      "cell_type": "code",
      "metadata": {
        "colab": {
          "base_uri": "https://localhost:8080/"
        },
        "id": "vq-gOw-4Jp0y",
        "outputId": "15190c43-daec-4284-f2a3-60d8c5682071"
      },
      "source": [
        "play_game(2020)"
      ],
      "execution_count": 27,
      "outputs": [
        {
          "output_type": "execute_result",
          "data": {
            "text/plain": [
              "610"
            ]
          },
          "metadata": {
            "tags": []
          },
          "execution_count": 27
        }
      ]
    },
    {
      "cell_type": "code",
      "metadata": {
        "colab": {
          "base_uri": "https://localhost:8080/"
        },
        "id": "U_KF2w1xJu_S",
        "outputId": "6a4bc8b5-40e3-45a8-927e-5697549bc25a"
      },
      "source": [
        "play_game(30000000)"
      ],
      "execution_count": 24,
      "outputs": [
        {
          "output_type": "execute_result",
          "data": {
            "text/plain": [
              "1407"
            ]
          },
          "metadata": {
            "tags": []
          },
          "execution_count": 24
        }
      ]
    }
  ]
}