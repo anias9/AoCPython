{
  "nbformat": 4,
  "nbformat_minor": 0,
  "metadata": {
    "colab": {
      "name": "Untitled4.ipynb",
      "provenance": [],
      "authorship_tag": "ABX9TyOj1bmdgXtDMWDTE+J49ibq",
      "include_colab_link": true
    },
    "kernelspec": {
      "name": "python3",
      "display_name": "Python 3"
    }
  },
  "cells": [
    {
      "cell_type": "markdown",
      "metadata": {
        "id": "view-in-github",
        "colab_type": "text"
      },
      "source": [
        "<a href=\"https://colab.research.google.com/github/anias9/AoCPython/blob/main/day25.ipynb\" target=\"_parent\"><img src=\"https://colab.research.google.com/assets/colab-badge.svg\" alt=\"Open In Colab\"/></a>"
      ]
    },
    {
      "cell_type": "code",
      "metadata": {
        "id": "8B4_lSkTyvB2"
      },
      "source": [
        "#data in last cell\r\n",
        "input = data.splitlines()\r\n",
        "all = [int(line.strip()) for line in input]"
      ],
      "execution_count": 10,
      "outputs": []
    },
    {
      "cell_type": "code",
      "metadata": {
        "colab": {
          "base_uri": "https://localhost:8080/"
        },
        "id": "A2eajCSGNbSB",
        "outputId": "9eded861-752a-4c2e-b255-b6f4c6530fb5"
      },
      "source": [
        "all"
      ],
      "execution_count": 11,
      "outputs": [
        {
          "output_type": "execute_result",
          "data": {
            "text/plain": [
              "[19774466, 7290641]"
            ]
          },
          "metadata": {
            "tags": []
          },
          "execution_count": 11
        }
      ]
    },
    {
      "cell_type": "code",
      "metadata": {
        "id": "-5ZSYTN-OsoC"
      },
      "source": [
        "card = all[0]\r\n",
        "door = all[1]\r\n",
        "counter = 0\r\n",
        "num = 1\r\n",
        "answerKey = 1"
      ],
      "execution_count": 15,
      "outputs": []
    },
    {
      "cell_type": "code",
      "metadata": {
        "id": "0UitXXljzFu3"
      },
      "source": [
        "while num != card:\r\n",
        "    counter+= 1\r\n",
        "    num = (num * 7) % 20201227\r\n",
        "\r\n",
        "for i in range(card):\r\n",
        "    answerKey = (answerKey * door) % 20201227\r\n"
      ],
      "execution_count": 16,
      "outputs": []
    },
    {
      "cell_type": "code",
      "metadata": {
        "colab": {
          "base_uri": "https://localhost:8080/"
        },
        "id": "TYvhLVO_ONty",
        "outputId": "d7571ad2-33c2-40db-ffee-4b52a6b7a29f"
      },
      "source": [
        "answerKey"
      ],
      "execution_count": 17,
      "outputs": [
        {
          "output_type": "execute_result",
          "data": {
            "text/plain": [
              "446235"
            ]
          },
          "metadata": {
            "tags": []
          },
          "execution_count": 17
        }
      ]
    },
    {
      "cell_type": "code",
      "metadata": {
        "id": "wmMCFdZhyr6x"
      },
      "source": [
        "data = \"\"\"19774466\r\n",
        "7290641\"\"\""
      ],
      "execution_count": 18,
      "outputs": []
    }
  ]
}