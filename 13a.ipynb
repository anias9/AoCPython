{
  "nbformat": 4,
  "nbformat_minor": 0,
  "metadata": {
    "colab": {
      "name": "Untitled2.ipynb",
      "provenance": [],
      "authorship_tag": "ABX9TyPU5hOQNzMz3z0aGKCo0VCp",
      "include_colab_link": true
    },
    "kernelspec": {
      "name": "python3",
      "display_name": "Python 3"
    }
  },
  "cells": [
    {
      "cell_type": "markdown",
      "metadata": {
        "id": "view-in-github",
        "colab_type": "text"
      },
      "source": [
        "<a href=\"https://colab.research.google.com/github/anias9/AoCPython/blob/main/13a.ipynb\" target=\"_parent\"><img src=\"https://colab.research.google.com/assets/colab-badge.svg\" alt=\"Open In Colab\"/></a>"
      ]
    },
    {
      "cell_type": "code",
      "metadata": {
        "id": "i-qdnH2sKR5E"
      },
      "source": [
        "time = 1011416\r\n",
        "x = 'x'\r\n",
        "id = [41,x,x,x,x,x,x,x,x,x,x,x,x,x,x,x,x,x,x,x,x,x,x,x,x,x,x,x,x,x,x,x,x,x,x,37,x,x,x,x,x,911,x,x,x,x,x,x,x,x,x,x,x,x,13,17,x,x,x,x,x,x,x,x,23,x,x,x,x,x,29,x,827,x,x,x,x,x,x,x,x,x,x,x,x,x,x,x,x,x,x,19]"
      ],
      "execution_count": 18,
      "outputs": []
    },
    {
      "cell_type": "code",
      "metadata": {
        "colab": {
          "base_uri": "https://localhost:8080/"
        },
        "id": "BLILDT_nLFUr",
        "outputId": "d3c8d8a2-a8f5-49d5-f55d-ca13676cdb95"
      },
      "source": [
        "ids = [i for i in id if type(i) == int]\r\n",
        "best = None\r\n",
        "\r\n",
        "for i in ids:\r\n",
        "  t1 = time \r\n",
        "  while t1 % i != 0:\r\n",
        "    t1 += 1\r\n",
        "  score = t1 - time  \r\n",
        "  if best is None or score < best[0]:\r\n",
        "    best = (score, i)\r\n",
        "\r\n",
        "print(best[0] * best[1])"
      ],
      "execution_count": 22,
      "outputs": [
        {
          "output_type": "stream",
          "text": [
            "4135\n"
          ],
          "name": "stdout"
        }
      ]
    }
  ]
}