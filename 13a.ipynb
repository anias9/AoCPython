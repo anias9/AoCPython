{
  "nbformat": 4,
  "nbformat_minor": 0,
  "metadata": {
    "colab": {
      "name": "Untitled2.ipynb",
      "provenance": [],
      "authorship_tag": "ABX9TyM9s9+WceAxcETxIWltWt2I"
    },
    "kernelspec": {
      "name": "python3",
      "display_name": "Python 3"
    }
  },
  "cells": [
    {
      "cell_type": "code",
      "metadata": {
        "id": "i-qdnH2sKR5E"
      },
      "source": [
        "time = 939;\r\n",
        "x = 'x'\r\n",
        "id = [7,13,x,x,59,x,31,19];"
      ],
      "execution_count": null,
      "outputs": []
    },
    {
      "cell_type": "code",
      "metadata": {
        "colab": {
          "base_uri": "https://localhost:8080/"
        },
        "id": "BLILDT_nLFUr",
        "outputId": "0773a096-e241-4955-88f8-b95b5851d7e4"
      },
      "source": [
        "ids = [i for i in id if type(i) == int]\r\n",
        "resultId = 0\r\n",
        "isTrue = True\r\n",
        "idMultiple = 0\r\n",
        "\r\n",
        "\r\n",
        "for i in ids: \r\n",
        "  lowest = 1000000\r\n",
        "  isMultiple = time // i\r\n",
        "  diff = (i *(idMultiple+1)) - time\r\n",
        "  if (diff < lowest ):\r\n",
        "    lowest = diff \r\n",
        "    resultId = i \r\n",
        "\r\n",
        "\r\n",
        "print(resultId)\r\n",
        "\r\n",
        "\r\n",
        "\r\n",
        "\r\n"
      ],
      "execution_count": null,
      "outputs": [
        {
          "output_type": "stream",
          "text": [
            "19\n"
          ],
          "name": "stdout"
        }
      ]
    }
  ]
}